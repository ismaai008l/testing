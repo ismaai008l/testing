{
 "cells": [
  {
   "cell_type": "markdown",
   "id": "97847d1b-0911-4cdb-ad30-38afd4ca66ad",
   "metadata": {},
   "source": [
    "# Notebook For testing"
   ]
  },
  {
   "cell_type": "markdown",
   "id": "3b85039a-8817-40a4-a474-886c0dffe4b5",
   "metadata": {},
   "source": [
    "## Gradients with Pytorch"
   ]
  },
  {
   "cell_type": "code",
   "execution_count": 2,
   "id": "b37be6da-8112-4cd8-9624-5e4d1727cf8d",
   "metadata": {},
   "outputs": [
    {
     "name": "stderr",
     "output_type": "stream",
     "text": [
      "/home/thesam/mambaforge/lib/python3.10/site-packages/tqdm/auto.py:22: TqdmWarning: IProgress not found. Please update jupyter and ipywidgets. See https://ipywidgets.readthedocs.io/en/stable/user_install.html\n",
      "  from .autonotebook import tqdm as notebook_tqdm\n"
     ]
    }
   ],
   "source": [
    "# import pytorch\n",
    "import torch"
   ]
  },
  {
   "cell_type": "markdown",
   "id": "c9be5265-66ef-47b4-b4ef-41ae110affd6",
   "metadata": {},
   "source": [
    "* Create a **Tensor** `x` and tell Pytorch to track the changes in it with `requires_grad=True`"
   ]
  },
  {
   "cell_type": "code",
   "execution_count": 3,
   "id": "bd1dc674-988c-4518-b124-ba397819774b",
   "metadata": {},
   "outputs": [
    {
     "data": {
      "text/plain": [
       "tensor(3., requires_grad=True)"
      ]
     },
     "execution_count": 3,
     "metadata": {},
     "output_type": "execute_result"
    }
   ],
   "source": [
    "# create x\n",
    "x = torch.tensor(3.0, requires_grad= True )\n",
    "x"
   ]
  },
  {
   "cell_type": "code",
   "execution_count": 4,
   "id": "f99c251e-de24-4df9-bed9-17de37265119",
   "metadata": {},
   "outputs": [
    {
     "data": {
      "text/plain": [
       "tensor(27., grad_fn=<MulBackward0>)"
      ]
     },
     "execution_count": 4,
     "metadata": {},
     "output_type": "execute_result"
    }
   ],
   "source": [
    "# do some changes in x \n",
    "y = 3 * x ** 2\n",
    "y"
   ]
  },
  {
   "cell_type": "markdown",
   "id": "fa1b6c35-1e5d-4ecd-af41-6c4d650004f6",
   "metadata": {},
   "source": [
    "* Compute the gradients using `backward()` function for `y` in respect to `x`"
   ]
  },
  {
   "cell_type": "code",
   "execution_count": 10,
   "id": "b2de0275-3edf-4e6e-a429-d2d1f1bbe582",
   "metadata": {},
   "outputs": [],
   "source": [
    "# compute the backward\n",
    "y.backward()"
   ]
  },
  {
   "cell_type": "code",
   "execution_count": 11,
   "id": "bf09ab73-d8a6-4fa1-8773-f6fafc93fb16",
   "metadata": {},
   "outputs": [],
   "source": [
    "dx = x.grad"
   ]
  },
  {
   "cell_type": "code",
   "execution_count": 13,
   "id": "d42aa216-215b-4e7e-abe8-f68d2900a109",
   "metadata": {},
   "outputs": [
    {
     "data": {
      "text/plain": [
       "tensor(18.)"
      ]
     },
     "execution_count": 13,
     "metadata": {},
     "output_type": "execute_result"
    }
   ],
   "source": [
    "dx"
   ]
  },
  {
   "cell_type": "code",
   "execution_count": null,
   "id": "164c7a7b-3e11-4790-bdba-70c3d2ce9df1",
   "metadata": {},
   "outputs": [],
   "source": []
  }
 ],
 "metadata": {
  "kernelspec": {
   "display_name": "Python 3 (ipykernel)",
   "language": "python",
   "name": "python3"
  },
  "language_info": {
   "codemirror_mode": {
    "name": "ipython",
    "version": 3
   },
   "file_extension": ".py",
   "mimetype": "text/x-python",
   "name": "python",
   "nbconvert_exporter": "python",
   "pygments_lexer": "ipython3",
   "version": "3.10.6"
  }
 },
 "nbformat": 4,
 "nbformat_minor": 5
}
